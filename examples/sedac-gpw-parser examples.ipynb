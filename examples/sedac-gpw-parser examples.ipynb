{
 "cells": [
  {
   "cell_type": "code",
   "execution_count": null,
   "metadata": {},
   "outputs": [],
   "source": [
    "%load_ext autoreload\n",
    "%autoreload 2\n",
    "from sedac_gpw_parser import plot\n",
    "from sedac_gpw_parser import population"
   ]
  },
  {
   "cell_type": "code",
   "execution_count": null,
   "metadata": {},
   "outputs": [],
   "source": [
    "pop = population.Population(country_id=276)\n",
    "population_array = pop.population_array()\n",
    "latitudes = pop.latitude_range()\n",
    "longitudes = pop.longitude_range()\n",
    "table = pop.as_list()\n",
    "\n",
    "print(population_array.shape)\n",
    "print(latitudes.shape)\n",
    "print(longitudes.shape)\n",
    "print(table[::10])"
   ]
  },
  {
   "cell_type": "markdown",
   "metadata": {},
   "source": [
    "# Germany"
   ]
  },
  {
   "cell_type": "code",
   "execution_count": null,
   "metadata": {},
   "outputs": [],
   "source": [
    "p = plot.Plot(country_id=276)\n",
    "print(\"Size of data set:\", p._population.shape)\n",
    "print(\"Extent of the grid:\", p._img_extent)\n",
    "p.plot(show=True)"
   ]
  },
  {
   "cell_type": "markdown",
   "metadata": {},
   "source": [
    "# France"
   ]
  },
  {
   "cell_type": "code",
   "execution_count": null,
   "metadata": {},
   "outputs": [],
   "source": [
    "p = plot.Plot(country_id=250)\n",
    "print(\"Size of data set:\", p._population.shape)\n",
    "print(\"Extent of the grid:\", p._img_extent)\n",
    "p.plot(show=True)"
   ]
  },
  {
   "cell_type": "markdown",
   "metadata": {},
   "source": [
    "# Brazil"
   ]
  },
  {
   "cell_type": "code",
   "execution_count": null,
   "metadata": {},
   "outputs": [],
   "source": [
    "p = plot.Plot(country_id=76)\n",
    "print(\"Size of data set:\", p._population.shape)\n",
    "print(\"Extent of the grid:\", p._img_extent)\n",
    "p.plot(show=True)"
   ]
  },
  {
   "cell_type": "markdown",
   "metadata": {},
   "source": [
    "# Look up country ids by name"
   ]
  },
  {
   "cell_type": "code",
   "execution_count": null,
   "metadata": {},
   "outputs": [],
   "source": [
    "from sedac_gpw_parser import utils"
   ]
  },
  {
   "cell_type": "code",
   "execution_count": null,
   "metadata": {},
   "outputs": [],
   "source": [
    "utils.id_lookup(\"Afri\")"
   ]
  }
 ],
 "metadata": {
  "kernelspec": {
   "display_name": "Python 3",
   "language": "python",
   "name": "python3"
  },
  "language_info": {
   "codemirror_mode": {
    "name": "ipython",
    "version": 3
   },
   "file_extension": ".py",
   "mimetype": "text/x-python",
   "name": "python",
   "nbconvert_exporter": "python",
   "pygments_lexer": "ipython3",
   "version": "3.8.2"
  }
 },
 "nbformat": 4,
 "nbformat_minor": 2
}
